{
  "nbformat": 4,
  "nbformat_minor": 0,
  "metadata": {
    "colab": {
      "provenance": []
    },
    "kernelspec": {
      "name": "python3",
      "display_name": "Python 3"
    },
    "language_info": {
      "name": "python"
    }
  },
  "cells": [
    {
      "cell_type": "code",
      "execution_count": null,
      "metadata": {
        "id": "Fx035dav4UGI"
      },
      "outputs": [],
      "source": []
    },
    {
      "cell_type": "markdown",
      "source": [
        "# Data Types and Structures"
      ],
      "metadata": {
        "id": "6rXjh-Et40yi"
      }
    },
    {
      "cell_type": "markdown",
      "source": [
        "1. What are data structures, and why are they important?\n",
        "-> Data structures are ways to organize and store data for efficient access and modification. Examples include arrays, linked lists, stacks, queues, trees, graphs, and hash tables.\n",
        "\n",
        "Importance:\n",
        "\n",
        "Improve efficiency of algorithms.\n",
        "\n",
        "Optimize resource usage (time, memory).\n",
        "\n",
        "Enable scalable solutions.\n",
        "\n",
        "Essential for real-world applications (databases, operating systems).\n",
        "\n",
        "2.  Explain the difference between mutable and immutable data types with examples?\n",
        "->  Mutable data types can be modified after they are created.\n",
        "\n",
        "Immutable data types cannot be modified once created.\n",
        "\n",
        "Examples:\n",
        "\n",
        "Mutable:\n",
        "\n",
        "Lists: my_list = [1, 2, 3] → my_list[0] = 4 changes the list.\n",
        "\n",
        "Immutable:\n",
        "\n",
        "Tuples: my_tuple = (1, 2, 3) → Cannot change my_tuple[0] directly.\n",
        "\n",
        "In summary, mutable types allow changes, while immutable types do not.\n",
        "\n",
        "3. What are the main differences between lists and tuples in Python?\n",
        "->\n",
        "Lists are mutable (can be changed), while tuples are immutable (cannot be changed).\n",
        "\n",
        "\n",
        "Key Differences:\n",
        "\n",
        "a)Syntax:\n",
        "\n",
        "Lists: []\n",
        "\n",
        "\n",
        "Tuples: ()\n",
        "\n",
        "b)Mutability:\n",
        "\n",
        "Lists: Can be modified.\n",
        "\n",
        "Tuples: Cannot be modified.\n",
        "\n",
        "c)Performance:\n",
        "\n",
        "Lists: Slower due to mutability.\n",
        "\n",
        "Tuples: Faster due to immutability.\n",
        "\n",
        "4.Describe how dictionaries store data.\n",
        "-> Dictionaries in Python store data as key-value pairs. Each key is unique, and each key maps to a value.\n",
        "\n",
        "Example:\n",
        "\n",
        "my_dict = {\"name\": \"John\", \"age\": 30}\n",
        "\n",
        "Keys: \"name\", \"age\"\n",
        "\n",
        "Values: \"John\", 30\n",
        "\n",
        "Dictionaries provide fast lookups, insertions, and deletions based on keys.\n",
        "\n",
        "5. Why might you use a set instead of a list in Python.\n",
        "-> You would use a set instead of a list when:\n",
        "\n",
        "Uniqueness: Sets automatically remove duplicates, ensuring all elements are unique.\n",
        "\n",
        "Efficiency: Sets offer faster membership tests (checking if an item exists).\n",
        "\n",
        "Mathematical Operations: Sets support operations like union, intersection, and difference.\n",
        "\n",
        "example\n",
        "\n",
        "my_set = {1, 2, 3}\n",
        "\n",
        "6. What is a string in Python, and how is it different from a list\n",
        "->A string in Python is a sequence of characters enclosed in quotes (\" \" or ' ').\n",
        "\n",
        "\n",
        "Differences between string and list:\n",
        "\n",
        "Mutability:-\n",
        "\n",
        "String: Immutable (cannot be changed after creation).\n",
        "\n",
        "List: Mutable (can be modified).\n",
        "\n",
        "Content:-\n",
        "\n",
        "String: Stores only characters.\n",
        "\n",
        "List: Stores various data types (integers, strings, objects, etc.).\n",
        "\n",
        "7.  How do tuples ensure data integrity in Python.\n",
        "-> Tuples ensure data integrity by being immutable. Once created, the elements of a tuple cannot be changed, added, or removed. This guarantees that the data remains unchanged throughout the program, preventing accidental modifications.\n",
        "\n",
        "example:\n",
        "\n",
        "my_tuple = (1, 2, 3)\n",
        "\n",
        "8. What is a hash table, and how does it relate to dictionaries in Python\n",
        "-> A hash table is a data structure that stores data in key-value pairs, using a hash function to map keys to specific locations in memory. It allows fast lookups, insertions, and deletions.\n",
        "\n",
        "In Python, a dictionary is implemented using a hash table. Each dictionary key is hashed, and the value is stored at the corresponding location, enabling efficient access.\n",
        "\n",
        " eg:\n",
        "\n",
        " my_dict = {\"name\": \"John\", \"age\": 30}\n",
        "\n",
        " 9. Can lists contain different data types in Python.\n",
        " ->Yes, lists in Python can contain different data types. A list can store integers, strings, floats, and even other lists or objects.\n",
        "\n",
        " eg:\n",
        "\n",
        " my_list = [1, \"hello\", 3.14, [2, 3]]\n",
        "\n",
        "10. Explain why strings are immutable in Python.\n",
        "-> Strings are immutable in Python to ensure efficiency and data integrity. When a string is created, its value cannot be changed, which prevents accidental modifications and allows Python to optimize memory usage by reusing string objects.\n",
        "\n",
        "Any operation that appears to modify a string actually creates a new string instead of modifying the original one.\n",
        "\n",
        "11. What advantages do dictionaries offer over lists for certain tasks.\n",
        "-> Dictionaries offer several advantages over lists for certain tasks:\n",
        "\n",
        "Faster Lookups: Dictionaries provide O\n",
        "\n",
        "(a)time complexity for key-based lookups, while lists require O(n) for searching.\n",
        "\n",
        "(b)Unique Keys: Keys are unique, preventing duplicates and ensuring data integrity.\n",
        "\n",
        "(c)Key-Value Mapping: Useful for tasks where data is naturally paired, like storing user information with keys like \"name\" or \"age\".\n",
        "\n",
        "12. Describe a scenario where using a tuple would be preferable over a list\n",
        "->Using a tuple is preferable when you need data to remain constant and immutable.\n",
        "\n",
        "For example:\n",
        "\n",
        "Scenario:Storing coordinates of a point:\n",
        "\n",
        "coordinates = (10, 20)\n",
        "\n",
        "Here, immutability ensures the values cannot be accidentally modified, preserving data integrity. This is useful in scenarios like database keys or function returns where data should not change.\n",
        "\n",
        "\n",
        "13.How do sets handle duplicate values in Python.\n",
        "-> In Python, sets automatically remove duplicate values. When elements are added to a set, any duplicates are ignored, ensuring all elements are unique.\n",
        "\n",
        "eg:\n",
        "\n",
        "my_set = {1, 2, 2, 3}\n",
        "\n",
        "\n",
        "print(my_set)  \n",
        "\n",
        "Output: {1, 2, 3}\n",
        "\n",
        "This makes sets useful for tasks requiring unique items.\n",
        "\n",
        "14. How does the “in” keyword work differently for lists and dictionaries\n",
        "-> The in keyword works differently for lists and dictionaries:\n",
        "\n",
        "Lists: Checks if a value exists in the list.\n",
        "\n",
        "my_list = [1, 2, 3]\n",
        "\n",
        "\n",
        "print(2 in my_list)  # Output: True\n",
        "\n",
        "Dictionaries: Checks if a key exists in the dictionary (not the value).\n",
        "\n",
        "\n",
        "my_dict = {\"name\": \"Alice\", \"age\": 25}\n",
        "\n",
        "\n",
        "print(\"name\" in my_dict)  # Output: True\n",
        "\n",
        "15.  Can you modify the elements of a tuple? Explain why or why not.\n",
        "-> No, you cannot modify the elements of a tuple because tuples are immutable in Python. Once a tuple is created, its contents cannot be changed. This immutability ensures data integrity and makes tuples suitable for fixed data.\n",
        "\n",
        "my_tuple = (1, 2, 3)\n",
        "\n",
        "\n",
        "my_tuple[0] = 4  # Raises TypeError: 'tuple' object does not support item assignment\n",
        "\n",
        "16.  What is a nested dictionary, and give an example of its use case.\n",
        "-> A nested dictionary is a dictionary where values are themselves dictionaries. It allows hierarchical data storage.\n",
        "\n",
        "Example Use Case:\n",
        "\n",
        "\n",
        "Storing student details by ID:\n",
        "\n",
        "\n",
        "students = {\n",
        "\n",
        "\n",
        "    101: {\"name\": \"Alice\", \"age\": 20},\n",
        "\n",
        "\n",
        "    102: {\"name\": \"Bob\", \"age\": 22}\n",
        "}\n",
        "\n",
        "\n",
        "print(students[101][\"name\"])  # Output: Alice\n",
        "\n",
        "\n",
        "This is useful for organizing complex data like databases.\n",
        "\n",
        "17. Describe the time complexity of accessing elements in a dictionary.\n",
        "\n",
        "-> Accessing elements in a dictionary has an average time complexity of O(1), thanks to the underlying hash table. However, in the worst case (e.g., hash collisions), it can degrade to O(n).\n",
        "\n",
        "example:\n",
        "\n",
        "my_dict = {\"a\": 1, \"b\": 2}\n",
        "\n",
        "print(my_dict[\"a\"])  # O(1) operation\n",
        "\n",
        "18.  In what situations are lists preferred over dictionaries.\n",
        "-> Lists are preferred over dictionaries when:\n",
        "\n",
        "a)Ordered Data: You need to maintain the order of elements.\n",
        "\n",
        "my_list = [10, 20, 30]\n",
        "\n",
        "\n",
        "b)Sequential Access: Iterating through items without specific keys is required.\n",
        "\n",
        "for item in my_list:\n",
        "    \n",
        "    print(item)\n",
        "\n",
        "c) Simpler Structure: Data doesn’t need key-value pairing or unique identifiers.\n",
        "\n",
        "Use lists for simpler, ordered data collections where key-based lookups aren't needed.\n",
        "\n",
        "19. Why are dictionaries considered unordered, and how does that affect data retrieval.\n",
        "->Dictionaries were historically considered unordered because they did not guarantee the order of elements. However, starting from Python 3.7, dictionaries maintain insertion order.\n",
        "\n",
        "Effect on Data Retrieval:\n",
        "\n",
        "\n",
        "a)Key-Based Access: Retrieval is always based on keys, not order, so the lack of inherent order doesn’t affect lookups.\n",
        "\n",
        "my_dict = {\"a\": 1, \"b\": 2}\n",
        "\n",
        "print(my_dict[\"a\"])  # Efficient key-based access\n",
        "\n",
        "b)Iterating: While they now maintain order, order is secondary to key-value relationships in usage.\n",
        "\n",
        "In summary, dictionaries are designed for fast access, not sequence management.\n",
        "\n",
        " 20. Explain the difference between a list and a dictionary in terms of data retrieval.\n",
        " -. Data Retrieval Differences:\n",
        "\n",
        "List: Access is based on index (position).\n",
        "\n",
        "\n",
        "\n",
        "Time Complexity: O(1) for direct indexing.\n",
        "\n",
        "Example:\n",
        "\n",
        "\n",
        "my_list = [10, 20, 30]\n",
        "\n",
        "print(my_list[1])  # Output: 20\n",
        "\n",
        "Dictionary: Access is based on keys.\n",
        "\n",
        "Time Complexity: O(1) on average for key-based lookups.\n",
        "\n",
        "Example:\n",
        "\n",
        "my_dict = {\"a\": 10, \"b\": 20}\n",
        "\n",
        "print(my_dict[\"b\"])  # Output: 20\n",
        "\n",
        "Summary:\n",
        "Lists are for ordered, positional access.\n",
        "Dictionaries provide efficient, key-based retrieval.\n",
        "\n",
        "\n",
        "\n",
        "\n",
        "\n",
        "\n",
        "\n",
        "\n",
        "\n",
        "\n",
        "\n",
        "\n",
        "\n",
        "\n",
        "\n",
        "\n",
        "\n"
      ],
      "metadata": {
        "id": "3NV4sW-04_Es"
      }
    },
    {
      "cell_type": "markdown",
      "source": [
        "**Praticals**"
      ],
      "metadata": {
        "id": "FHFnuf02CvSd"
      }
    },
    {
      "cell_type": "markdown",
      "source": [
        "1. Write a code to create a string with your name and print it"
      ],
      "metadata": {
        "id": "bZDM8vjDC4FN"
      }
    },
    {
      "cell_type": "code",
      "source": [
        "name = \"Kuldeep\"\n",
        "print(name)\n"
      ],
      "metadata": {
        "colab": {
          "base_uri": "https://localhost:8080/"
        },
        "id": "dZQtGQEWDCAw",
        "outputId": "8294c54c-f333-4ac1-e9dc-b7be3ad03990"
      },
      "execution_count": null,
      "outputs": [
        {
          "output_type": "stream",
          "name": "stdout",
          "text": [
            "Kuldeep\n"
          ]
        }
      ]
    },
    {
      "cell_type": "markdown",
      "source": [
        "2. Write a code to find the length of the string \"Hello World\""
      ],
      "metadata": {
        "id": "ZJrD8uhcDVHN"
      }
    },
    {
      "cell_type": "code",
      "source": [
        "string = \"Hello World\"\n",
        "length = len(string)\n",
        "print(length)\n"
      ],
      "metadata": {
        "colab": {
          "base_uri": "https://localhost:8080/"
        },
        "id": "pYIq110vDfVt",
        "outputId": "82a3ace6-b66d-41f4-f150-0f2076613423"
      },
      "execution_count": null,
      "outputs": [
        {
          "output_type": "stream",
          "name": "stdout",
          "text": [
            "11\n"
          ]
        }
      ]
    },
    {
      "cell_type": "markdown",
      "source": [],
      "metadata": {
        "id": "ddw0ydVtDkVz"
      }
    },
    {
      "cell_type": "markdown",
      "source": [
        "3.  Write a code to slice the first 3 characters from the string \"Python Programming\""
      ],
      "metadata": {
        "id": "IE0t6yCnDm7Z"
      }
    },
    {
      "cell_type": "code",
      "source": [
        "string = \"Python Programming\"\n",
        "sliced_string = string[:3]\n",
        "print(sliced_string)\n"
      ],
      "metadata": {
        "colab": {
          "base_uri": "https://localhost:8080/"
        },
        "id": "ZdELU35sDsGe",
        "outputId": "83777f88-edbb-452b-8ce1-df77b9a038fe"
      },
      "execution_count": null,
      "outputs": [
        {
          "output_type": "stream",
          "name": "stdout",
          "text": [
            "Pyt\n"
          ]
        }
      ]
    },
    {
      "cell_type": "markdown",
      "source": [
        "4.  Write a code to convert the string \"hello\" to uppercase"
      ],
      "metadata": {
        "id": "v3nBsi6tDvKa"
      }
    },
    {
      "cell_type": "code",
      "source": [
        "string = \"hello\"\n",
        "uppercase_string = string.upper()\n",
        "print(uppercase_string)\n"
      ],
      "metadata": {
        "colab": {
          "base_uri": "https://localhost:8080/"
        },
        "id": "qYjt_DoJD7_I",
        "outputId": "3c2d1d85-7c58-4503-bf94-ad30c7c0fbe3"
      },
      "execution_count": null,
      "outputs": [
        {
          "output_type": "stream",
          "name": "stdout",
          "text": [
            "HELLO\n"
          ]
        }
      ]
    },
    {
      "cell_type": "markdown",
      "source": [
        " 5. Write a code to replace the word \"apple\" with \"orange\" in the string \"I like apple\""
      ],
      "metadata": {
        "id": "yru6EdRuD-im"
      }
    },
    {
      "cell_type": "code",
      "source": [
        "string = \"I like apple\"\n",
        "new_string = string.replace(\"apple\", \"orange\")\n",
        "print(new_string)\n"
      ],
      "metadata": {
        "colab": {
          "base_uri": "https://localhost:8080/"
        },
        "id": "NAiU8NYBEEw2",
        "outputId": "a9f11395-f6e2-4abf-e8e4-3dc4389c4525"
      },
      "execution_count": null,
      "outputs": [
        {
          "output_type": "stream",
          "name": "stdout",
          "text": [
            "I like orange\n"
          ]
        }
      ]
    },
    {
      "cell_type": "markdown",
      "source": [
        "6. Write a code to create a list with numbers 1 to 5 and print it."
      ],
      "metadata": {
        "id": "-vpu5F0BEH-7"
      }
    },
    {
      "cell_type": "code",
      "source": [
        "my_list = [1, 2, 3, 4, 5]\n",
        "print(my_list)\n"
      ],
      "metadata": {
        "id": "B3MC2KkaEMTv"
      },
      "execution_count": null,
      "outputs": []
    },
    {
      "cell_type": "markdown",
      "source": [
        "7.  Write a code to append the number 10 to the list [1, 2, 3, 4]"
      ],
      "metadata": {
        "id": "iJWrT7REERWH"
      }
    },
    {
      "cell_type": "code",
      "source": [
        "my_list = [1, 2, 3, 4]\n",
        "my_list.append(10)\n",
        "print(my_list)\n"
      ],
      "metadata": {
        "id": "qc603nOCEfIw"
      },
      "execution_count": null,
      "outputs": []
    },
    {
      "cell_type": "markdown",
      "source": [
        "8. Write a code to remove the number 3 from the list [1, 2, 3, 4, 5]"
      ],
      "metadata": {
        "id": "9QJOIfrdEgjz"
      }
    },
    {
      "cell_type": "code",
      "source": [
        "my_list = [1, 2, 3, 4, 5]\n",
        "my_list.remove(3)\n",
        "print(my_list)\n"
      ],
      "metadata": {
        "id": "c-p3PJgwEosC"
      },
      "execution_count": null,
      "outputs": []
    },
    {
      "cell_type": "markdown",
      "source": [
        "9. Write a code to access the second element in the list ['a', 'b', 'c', 'd']"
      ],
      "metadata": {
        "id": "Na0QsMagE3UR"
      }
    },
    {
      "cell_type": "code",
      "source": [
        "my_list = ['a', 'b', 'c', 'd']\n",
        "second_element = my_list[1]\n",
        "print(second_element)\n"
      ],
      "metadata": {
        "id": "kr56f1b4E9oG"
      },
      "execution_count": null,
      "outputs": []
    },
    {
      "cell_type": "markdown",
      "source": [
        "10. Write a code to reverse the list [10, 20, 30, 40, 50]."
      ],
      "metadata": {
        "id": "qHUoUMqjFGcB"
      }
    },
    {
      "cell_type": "code",
      "source": [
        "my_list = [10, 20, 30, 40, 50]\n",
        "my_list.reverse()\n",
        "print(my_list)\n"
      ],
      "metadata": {
        "id": "QaydopboFRVO"
      },
      "execution_count": null,
      "outputs": []
    },
    {
      "cell_type": "markdown",
      "source": [
        "11. Write a code to create a tuple with the elements 10, 20, 30 and print it."
      ],
      "metadata": {
        "id": "mEmxy6oOFTdO"
      }
    },
    {
      "cell_type": "code",
      "source": [
        "my_tuple = (10, 20, 30)\n",
        "print(my_tuple)\n"
      ],
      "metadata": {
        "id": "V939CB6QFayn"
      },
      "execution_count": null,
      "outputs": []
    },
    {
      "cell_type": "markdown",
      "source": [
        "12. Write a code to access the first element of the tuple ('apple', 'banana', 'cherry')"
      ],
      "metadata": {
        "id": "QRgFvV44FdK6"
      }
    },
    {
      "cell_type": "code",
      "source": [
        "my_tuple = ('apple', 'banana', 'cherry')\n",
        "first_element = my_tuple[0]\n",
        "print(first_element)\n"
      ],
      "metadata": {
        "id": "EMwPhEflFgxV"
      },
      "execution_count": null,
      "outputs": []
    },
    {
      "cell_type": "markdown",
      "source": [
        "13. Write a code to count how many times the number 2 appears in the tuple (1, 2, 3, 2, 4, 2)"
      ],
      "metadata": {
        "id": "eGB-V8vHFmtl"
      }
    },
    {
      "cell_type": "code",
      "source": [
        "my_tuple = (1, 2, 3, 2, 4, 2)\n",
        "count_2 = my_tuple.count(2)\n",
        "print(count_2)\n"
      ],
      "metadata": {
        "id": "x-V1rEXGFsvJ"
      },
      "execution_count": null,
      "outputs": []
    },
    {
      "cell_type": "markdown",
      "source": [
        "14. Write a code to find the index of the element \"cat\" in the tuple ('dog', 'cat', 'rabbit')"
      ],
      "metadata": {
        "id": "TgOFnmc4F5Mh"
      }
    },
    {
      "cell_type": "code",
      "source": [
        "my_tuple = ('dog', 'cat', 'rabbit')\n",
        "index_cat = my_tuple.index('cat')\n",
        "print(index_cat)\n"
      ],
      "metadata": {
        "id": "Dh8_eamaF7s2"
      },
      "execution_count": null,
      "outputs": []
    },
    {
      "cell_type": "markdown",
      "source": [
        "15.  Write a code to check if the element \"banana\" is in the tuple ('apple', 'orange', 'banana')"
      ],
      "metadata": {
        "id": "hchviqmdGB_B"
      }
    },
    {
      "cell_type": "code",
      "source": [
        "my_tuple = ('apple', 'orange', 'banana')\n",
        "is_banana_in_tuple = 'banana' in my_tuple\n",
        "print(is_banana_in_tuple)\n"
      ],
      "metadata": {
        "id": "bnjXAU-MGKfV"
      },
      "execution_count": null,
      "outputs": []
    },
    {
      "cell_type": "markdown",
      "source": [
        "16. Write a code to create a set with the elements 1, 2, 3, 4, 5 and print it."
      ],
      "metadata": {
        "id": "ZoqssO0hHI1H"
      }
    },
    {
      "cell_type": "code",
      "source": [
        "my_set = {1, 2, 3, 4, 5}\n",
        "print(my_set)\n"
      ],
      "metadata": {
        "id": "qqfkbhcSHOB5"
      },
      "execution_count": null,
      "outputs": []
    },
    {
      "cell_type": "markdown",
      "source": [
        "17. Write a code to add the element 6 to the set {1, 2, 3, 4}"
      ],
      "metadata": {
        "id": "hLiYvidgHT5Y"
      }
    },
    {
      "cell_type": "code",
      "source": [
        "my_set = {1, 2, 3, 4}\n",
        "my_set.add(6)\n",
        "print(my_set)\n"
      ],
      "metadata": {
        "id": "U85MjvNIHb60"
      },
      "execution_count": null,
      "outputs": []
    },
    {
      "cell_type": "markdown",
      "source": [
        "18. Write a code to create a tuple with the elements 10, 20, 30 and print it."
      ],
      "metadata": {
        "id": "nNMhTpVoHgmt"
      }
    },
    {
      "cell_type": "code",
      "source": [
        "my_tuple = (10, 20, 30)\n",
        "print(my_tuple)\n"
      ],
      "metadata": {
        "id": "pw7N776FHm7C"
      },
      "execution_count": null,
      "outputs": []
    },
    {
      "cell_type": "markdown",
      "source": [
        "19. Write a code to access the first element of the tuple ('apple', 'banana', 'cherry')."
      ],
      "metadata": {
        "id": "CXEn0ssVHtFP"
      }
    },
    {
      "cell_type": "code",
      "source": [
        "my_tuple = ('apple', 'banana', 'cherry')\n",
        "first_element = my_tuple[0]\n",
        "print(first_element)\n"
      ],
      "metadata": {
        "id": "55YyHDrsHyfi"
      },
      "execution_count": null,
      "outputs": []
    },
    {
      "cell_type": "markdown",
      "source": [
        "20. Write a code to count how many times the number 2 appears in the tuple (1, 2, 3, 2, 4, 2)."
      ],
      "metadata": {
        "id": "lP0kAnsLH27S"
      }
    },
    {
      "cell_type": "code",
      "source": [
        "my_tuple = (1, 2, 3, 2, 4, 2)\n",
        "count_2 = my_tuple.count(2)\n",
        "print(count_2)\n"
      ],
      "metadata": {
        "id": "ot04PtYNH9Ht"
      },
      "execution_count": null,
      "outputs": []
    },
    {
      "cell_type": "markdown",
      "source": [
        "21. Write a code to find the index of the element \"cat\" in the tuple ('dog', 'cat', 'rabbit')"
      ],
      "metadata": {
        "id": "1XW9qTUJIC3B"
      }
    },
    {
      "cell_type": "code",
      "source": [
        "my_tuple = ('dog', 'cat', 'rabbit')\n",
        "index_cat = my_tuple.index('cat')\n",
        "print(index_cat)\n"
      ],
      "metadata": {
        "id": "urRZnYMdIOG1"
      },
      "execution_count": null,
      "outputs": []
    },
    {
      "cell_type": "markdown",
      "source": [
        "22. Write a code to check if the element \"banana\" is in the tuple ('apple', 'orange', 'banana')."
      ],
      "metadata": {
        "id": "SMR1WMQrIUkT"
      }
    },
    {
      "cell_type": "code",
      "source": [
        "my_tuple = ('apple', 'orange', 'banana')\n",
        "is_banana_in_tuple = 'banana' in my_tuple\n",
        "print(is_banana_in_tuple)\n"
      ],
      "metadata": {
        "colab": {
          "base_uri": "https://localhost:8080/"
        },
        "id": "pxUu_zi4IXSV",
        "outputId": "51c47be6-5162-4556-ca5a-530e38ecee51"
      },
      "execution_count": null,
      "outputs": [
        {
          "output_type": "stream",
          "name": "stdout",
          "text": [
            "True\n"
          ]
        }
      ]
    },
    {
      "cell_type": "markdown",
      "source": [
        "23. Write a code to create a set with the elements 1, 2, 3, 4, 5 and print it."
      ],
      "metadata": {
        "id": "EChzEAhnIflF"
      }
    },
    {
      "cell_type": "code",
      "source": [
        "my_set = {1, 2, 3, 4, 5}\n",
        "print(my_set)\n"
      ],
      "metadata": {
        "id": "LidDhrf0IidT"
      },
      "execution_count": null,
      "outputs": []
    },
    {
      "cell_type": "markdown",
      "source": [
        "24. Write a code to add the element 6 to the set {1, 2, 3, 4}"
      ],
      "metadata": {
        "id": "wa9mSRP9Iub-"
      }
    },
    {
      "cell_type": "code",
      "source": [
        "my_set = {1, 2, 3, 4}\n",
        "my_set.add(6)\n",
        "print(my_set)\n"
      ],
      "metadata": {
        "id": "qiCObT-kIxB3"
      },
      "execution_count": null,
      "outputs": []
    }
  ]
}